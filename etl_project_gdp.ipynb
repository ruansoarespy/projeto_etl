{
  "nbformat": 4,
  "nbformat_minor": 0,
  "metadata": {
    "colab": {
      "provenance": [],
      "authorship_tag": "ABX9TyNJ0luJrlguIK4hmayvdU11",
      "include_colab_link": true
    },
    "kernelspec": {
      "name": "python3",
      "display_name": "Python 3"
    },
    "language_info": {
      "name": "python"
    }
  },
  "cells": [
    {
      "cell_type": "markdown",
      "metadata": {
        "id": "view-in-github",
        "colab_type": "text"
      },
      "source": [
        "<a href=\"https://colab.research.google.com/github/ruansoarespy/projeto_etl/blob/main/etl_project_gdp.ipynb\" target=\"_parent\"><img src=\"https://colab.research.google.com/assets/colab-badge.svg\" alt=\"Open In Colab\"/></a>"
      ]
    },
    {
      "cell_type": "code",
      "execution_count": 3,
      "metadata": {
        "colab": {
          "base_uri": "https://localhost:8080/"
        },
        "collapsed": true,
        "id": "ACP2fsAU3_QP",
        "outputId": "7604b5af-4187-4019-e324-9e8937a3fda3"
      },
      "outputs": [
        {
          "output_type": "stream",
          "name": "stdout",
          "text": [
            "Requirement already satisfied: pandas in /usr/local/lib/python3.10/dist-packages (2.2.2)\n",
            "Requirement already satisfied: numpy>=1.22.4 in /usr/local/lib/python3.10/dist-packages (from pandas) (1.26.4)\n",
            "Requirement already satisfied: python-dateutil>=2.8.2 in /usr/local/lib/python3.10/dist-packages (from pandas) (2.8.2)\n",
            "Requirement already satisfied: pytz>=2020.1 in /usr/local/lib/python3.10/dist-packages (from pandas) (2024.2)\n",
            "Requirement already satisfied: tzdata>=2022.7 in /usr/local/lib/python3.10/dist-packages (from pandas) (2024.2)\n",
            "Requirement already satisfied: six>=1.5 in /usr/local/lib/python3.10/dist-packages (from python-dateutil>=2.8.2->pandas) (1.17.0)\n",
            "Requirement already satisfied: numpy in /usr/local/lib/python3.10/dist-packages (1.26.4)\n",
            "Requirement already satisfied: beautifulsoup4 in /usr/local/lib/python3.10/dist-packages (4.12.3)\n",
            "Requirement already satisfied: soupsieve>1.2 in /usr/local/lib/python3.10/dist-packages (from beautifulsoup4) (2.6)\n"
          ]
        }
      ],
      "source": [
        "!pip install pandas\n",
        "!pip install numpy\n",
        "!pip install beautifulsoup4\n"
      ]
    },
    {
      "cell_type": "code",
      "source": [
        "from bs4 import BeautifulSoup\n",
        "import requests\n",
        "import pandas as pd\n",
        "import numpy as np\n",
        "import sqlite3\n",
        "from datetime import datetime"
      ],
      "metadata": {
        "id": "6Derx0mS5TIr"
      },
      "execution_count": 6,
      "outputs": []
    },
    {
      "cell_type": "code",
      "source": [
        "# Code for ETL operations on Country-GDP data\n",
        "\n",
        "url = 'https://web.archive.org/web/20230902185326/https://en.wikipedia.org/wiki/List_of_countries_by_GDP_%28nominal%29'\n",
        "table_attribs = [\"Country\", \"GDP_USD_millions\"]\n",
        "db_name = 'World_Economies.db'\n",
        "table_name = 'Countries_by_GDP'\n",
        "csv_path = './Countries_by_GDP.csv'"
      ],
      "metadata": {
        "id": "ciqdQNcS7gzk"
      },
      "execution_count": 7,
      "outputs": []
    },
    {
      "cell_type": "code",
      "source": [
        "# Importing the required libraries\n",
        "\n",
        "def extract(url, table_attribs):\n",
        "    ''' This function extracts the required\n",
        "    information from the website and saves it to a dataframe. The\n",
        "    function returns the dataframe for further processing. '''\n",
        "\n",
        "    page = requests.get(url).text\n",
        "    data = BeautifulSoup(page,'html.parser')\n",
        "    df = pd.DataFrame(columns=table_attribs)\n",
        "    tables = data.find_all('tbody')\n",
        "    rows = tables[2].find_all('tr')\n",
        "    for row in rows:\n",
        "        col = row.find_all('td')\n",
        "        if len(col)!=0:\n",
        "            if col[0].find('a') is not None and '—' not in col[2]:\n",
        "                data_dict = {\"Country\": col[0].a.contents[0],\n",
        "                             \"GDP_USD_millions\": col[2].contents[0]}\n",
        "                df1 = pd.DataFrame(data_dict, index=[0])\n",
        "                df = pd.concat([df,df1], ignore_index=True)\n",
        "\n",
        "    return df"
      ],
      "metadata": {
        "id": "uPec2VrV7gwC"
      },
      "execution_count": 9,
      "outputs": []
    },
    {
      "cell_type": "code",
      "source": [
        "def transform(df):\n",
        "    ''' This function converts the GDP information from Currency\n",
        "    format to float value, transforms the information of GDP from\n",
        "    USD (Millions) to USD (Billions) rounding to 2 decimal places.\n",
        "    The function returns the transformed dataframe.'''\n",
        "\n",
        "    GDP_list = df[\"GDP_USD_millions\"].tolist()\n",
        "    GDP_list = [float(\"\".join(x.split(','))) for x in GDP_list]\n",
        "    GDP_list = [np.round(x/1000,2) for x in GDP_list]\n",
        "    df[\"GDP_USD_millions\"] = GDP_list\n",
        "    df=df.rename(columns = {\"GDP_USD_millions\":\"GDP_USD_billions\"})\n",
        "\n",
        "    return df"
      ],
      "metadata": {
        "id": "GMkx38mL7grb"
      },
      "execution_count": 10,
      "outputs": []
    },
    {
      "cell_type": "code",
      "source": [
        "def load_to_csv(df, csv_path):\n",
        "    ''' This function saves the final dataframe as a `CSV` file\n",
        "    in the provided path. Function returns nothing.'''\n",
        "\n",
        "    df.to_csv(csv_path)"
      ],
      "metadata": {
        "id": "U2o2HAp675nJ"
      },
      "execution_count": 11,
      "outputs": []
    },
    {
      "cell_type": "code",
      "source": [
        "def load_to_db(df, sql_connection, table_name):\n",
        "    ''' This function saves the final dataframe as a database table\n",
        "    with the provided name. Function returns nothing.'''\n",
        "\n",
        "    df.to_sql(table_name, sql_connection, if_exists='replace', index=False)"
      ],
      "metadata": {
        "id": "BTBS9_2O75U-"
      },
      "execution_count": 12,
      "outputs": []
    },
    {
      "cell_type": "code",
      "source": [
        "def run_query(query_statement, sql_connection):\n",
        "    ''' This function runs the stated query on the database table and\n",
        "    prints the output on the terminal. Function returns nothing. '''\n",
        "\n",
        "    print(query_statement)\n",
        "    query_output = pd.read_sql(query_statement, sql_connection)\n",
        "    print(query_output)"
      ],
      "metadata": {
        "id": "lveRE4US75Ru"
      },
      "execution_count": 13,
      "outputs": []
    },
    {
      "cell_type": "code",
      "source": [
        "def log_progress(message):\n",
        "    ''' This function logs the mentioned message at a given stage of the code execution to a log file. Function returns nothing'''\n",
        "\n",
        "    ''' Here, you define the required entities and call the relevant\n",
        "    functions in the correct order to complete the project. Note that this\n",
        "    portion is not inside any function.'''\n",
        "\n",
        "    timestamp_format = '%Y-%h-%d-%H:%M:%S' # Year-Monthname-Day-Hour-Minute-Second\n",
        "    now = datetime.now() # get current timestamp\n",
        "    timestamp = now.strftime(timestamp_format)\n",
        "    with open(\"./etl_project_log.txt\",\"a\") as f:\n",
        "        f.write(timestamp + ' : ' + message + '\\n')"
      ],
      "metadata": {
        "id": "8_4EaHVa8eh6"
      },
      "execution_count": 14,
      "outputs": []
    },
    {
      "cell_type": "code",
      "source": [
        "log_progress('Preliminaries complete. Initiating ETL process')\n",
        "df = extract(url, table_attribs)\n",
        "log_progress('Data extraction complete. Initiating Transformation process')\n",
        "df = transform(df)\n",
        "log_progress('Data transformation complete. Initiating loading process')\n",
        "load_to_csv(df, csv_path)\n",
        "log_progress('Data saved to CSV file')\n",
        "sql_connection = sqlite3.connect('World_Economies.db')\n",
        "log_progress('SQL Connection initiated.')\n",
        "load_to_db(df, sql_connection, table_name)\n",
        "log_progress('Data loaded to Database as table. Running the query')\n",
        "query_statement = f\"SELECT * from {table_name} WHERE GDP_USD_billions >= 100\"\n",
        "run_query(query_statement, sql_connection)\n",
        "log_progress('Process Complete.')\n",
        "sql_connection.close()"
      ],
      "metadata": {
        "colab": {
          "base_uri": "https://localhost:8080/"
        },
        "id": "z_PT2Ix99PJn",
        "outputId": "6240b90b-8f6c-462d-fc7e-0e6bf7e13afd"
      },
      "execution_count": 15,
      "outputs": [
        {
          "output_type": "stream",
          "name": "stdout",
          "text": [
            "SELECT * from Countries_by_GDP WHERE GDP_USD_billions >= 100\n",
            "          Country  GDP_USD_billions\n",
            "0   United States          26854.60\n",
            "1           China          19373.59\n",
            "2           Japan           4409.74\n",
            "3         Germany           4308.85\n",
            "4           India           3736.88\n",
            "..            ...               ...\n",
            "64          Kenya            118.13\n",
            "65         Angola            117.88\n",
            "66           Oman            104.90\n",
            "67      Guatemala            102.31\n",
            "68       Bulgaria            100.64\n",
            "\n",
            "[69 rows x 2 columns]\n"
          ]
        }
      ]
    }
  ]
}